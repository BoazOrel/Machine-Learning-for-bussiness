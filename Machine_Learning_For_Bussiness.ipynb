{
 "cells": [
  {
   "cell_type": "markdown",
   "id": "2422cb49",
   "metadata": {},
   "source": [
    "# Project description\n",
    "\n",
    "You work for the OilyGiant mining company. Your task is to find the best place\n",
    "for a new well.\n",
    "\n",
    "\n",
    "Steps to choose the location:\n",
    "* Collect the oil well parameters in the selected region: oil quality and\n",
    "volume of reserves;\n",
    "* Build a model for predicting the volume of reserves in the new wells;\n",
    "* Pick the oil wells with the highest estimated values;\n",
    "* Pick the region with the highest total profit for the selected oil wells."
   ]
  },
  {
   "cell_type": "markdown",
   "id": "f3bac51b",
   "metadata": {},
   "source": [
    "## Download and prepare the data. "
   ]
  },
  {
   "cell_type": "code",
   "execution_count": 1,
   "id": "2cedc372",
   "metadata": {},
   "outputs": [],
   "source": [
    "# Loading all the libraries\n",
    "import pandas as pd\n",
    "import numpy as np\n",
    "from sklearn.model_selection import cross_val_score\n",
    "from sklearn.model_selection import train_test_split\n",
    "from sklearn.preprocessing import StandardScaler\n",
    "from sklearn.linear_model import LinearRegression\n",
    "from sklearn.metrics import mean_squared_error\n",
    "from sklearn.metrics import mean_absolute_error\n",
    "import matplotlib.pyplot as plt\n",
    "from numpy.random import RandomState\n",
    "import seaborn as sns"
   ]
  },
  {
   "cell_type": "code",
   "execution_count": 2,
   "id": "f02704e0",
   "metadata": {},
   "outputs": [],
   "source": [
    "# Loading data\n",
    "\n",
    "reg1 = pd.read_csv('geo_data_0.csv')\n",
    "reg2 = pd.read_csv('geo_data_1.csv')\n",
    "reg3 = pd.read_csv('geo_data_2.csv')"
   ]
  },
  {
   "cell_type": "markdown",
   "id": "3805948a",
   "metadata": {},
   "source": [
    "### Data description\n",
    "Geological exploration data for the three regions are stored in files:\n",
    "geo1, geo2, geo3.\n",
    "* id — unique oil well identifier\n",
    "* f0, f1, f2 — three features of points (their specific meaning is unimportant, but the features themselves are significant)\n",
    "* product — volume of reserves in the oil well (thousand barrels)."
   ]
  },
  {
   "cell_type": "markdown",
   "id": "bfe5739c",
   "metadata": {},
   "source": [
    "### First region data inspection:"
   ]
  },
  {
   "cell_type": "code",
   "execution_count": 3,
   "id": "ee991f6d",
   "metadata": {},
   "outputs": [
    {
     "data": {
      "text/html": [
       "<div>\n",
       "<style scoped>\n",
       "    .dataframe tbody tr th:only-of-type {\n",
       "        vertical-align: middle;\n",
       "    }\n",
       "\n",
       "    .dataframe tbody tr th {\n",
       "        vertical-align: top;\n",
       "    }\n",
       "\n",
       "    .dataframe thead th {\n",
       "        text-align: right;\n",
       "    }\n",
       "</style>\n",
       "<table border=\"1\" class=\"dataframe\">\n",
       "  <thead>\n",
       "    <tr style=\"text-align: right;\">\n",
       "      <th></th>\n",
       "      <th>id</th>\n",
       "      <th>f0</th>\n",
       "      <th>f1</th>\n",
       "      <th>f2</th>\n",
       "      <th>product</th>\n",
       "    </tr>\n",
       "  </thead>\n",
       "  <tbody>\n",
       "    <tr>\n",
       "      <th>54775</th>\n",
       "      <td>duoC6</td>\n",
       "      <td>1.902902</td>\n",
       "      <td>-0.049188</td>\n",
       "      <td>4.409264</td>\n",
       "      <td>87.782301</td>\n",
       "    </tr>\n",
       "    <tr>\n",
       "      <th>56666</th>\n",
       "      <td>FzdcS</td>\n",
       "      <td>-0.911548</td>\n",
       "      <td>0.406071</td>\n",
       "      <td>7.100214</td>\n",
       "      <td>121.467503</td>\n",
       "    </tr>\n",
       "    <tr>\n",
       "      <th>34170</th>\n",
       "      <td>EasUV</td>\n",
       "      <td>0.477511</td>\n",
       "      <td>-0.698480</td>\n",
       "      <td>9.247731</td>\n",
       "      <td>155.571552</td>\n",
       "    </tr>\n",
       "    <tr>\n",
       "      <th>69604</th>\n",
       "      <td>Y5nMk</td>\n",
       "      <td>1.030943</td>\n",
       "      <td>0.459317</td>\n",
       "      <td>0.067644</td>\n",
       "      <td>15.332403</td>\n",
       "    </tr>\n",
       "    <tr>\n",
       "      <th>73829</th>\n",
       "      <td>4ZfC2</td>\n",
       "      <td>1.932281</td>\n",
       "      <td>0.512810</td>\n",
       "      <td>5.507542</td>\n",
       "      <td>82.964073</td>\n",
       "    </tr>\n",
       "  </tbody>\n",
       "</table>\n",
       "</div>"
      ],
      "text/plain": [
       "          id        f0        f1        f2     product\n",
       "54775  duoC6  1.902902 -0.049188  4.409264   87.782301\n",
       "56666  FzdcS -0.911548  0.406071  7.100214  121.467503\n",
       "34170  EasUV  0.477511 -0.698480  9.247731  155.571552\n",
       "69604  Y5nMk  1.030943  0.459317  0.067644   15.332403\n",
       "73829  4ZfC2  1.932281  0.512810  5.507542   82.964073"
      ]
     },
     "execution_count": 3,
     "metadata": {},
     "output_type": "execute_result"
    }
   ],
   "source": [
    "# Showing data smples\n",
    "reg1.sample(5)"
   ]
  },
  {
   "cell_type": "code",
   "execution_count": 4,
   "id": "28572f4f",
   "metadata": {},
   "outputs": [
    {
     "name": "stdout",
     "output_type": "stream",
     "text": [
      "<class 'pandas.core.frame.DataFrame'>\n",
      "RangeIndex: 100000 entries, 0 to 99999\n",
      "Data columns (total 5 columns):\n",
      " #   Column   Non-Null Count   Dtype  \n",
      "---  ------   --------------   -----  \n",
      " 0   id       100000 non-null  object \n",
      " 1   f0       100000 non-null  float64\n",
      " 2   f1       100000 non-null  float64\n",
      " 3   f2       100000 non-null  float64\n",
      " 4   product  100000 non-null  float64\n",
      "dtypes: float64(4), object(1)\n",
      "memory usage: 3.8+ MB\n"
     ]
    }
   ],
   "source": [
    "# Showing basic data information\n",
    "reg1.info()"
   ]
  },
  {
   "cell_type": "markdown",
   "id": "9aef07f8",
   "metadata": {},
   "source": [
    "No missing data!"
   ]
  },
  {
   "cell_type": "code",
   "execution_count": 5,
   "id": "a30b7dd3",
   "metadata": {},
   "outputs": [
    {
     "name": "stdout",
     "output_type": "stream",
     "text": [
      "There are 0 duplicated rows in the data frame\n"
     ]
    }
   ],
   "source": [
    "# Checking for duplicated rows\n",
    "dup = reg1.duplicated()\n",
    "print(f\"There are {dup.sum()} duplicated rows in the data frame\")"
   ]
  },
  {
   "cell_type": "markdown",
   "id": "c6182ba3",
   "metadata": {},
   "source": [
    "* The `id` column is not numerical and therefor not fit for our model. I could encode it but it is redundant because this column has no value for the model.\n",
    "\n",
    "* I'll will just get rid of it"
   ]
  },
  {
   "cell_type": "code",
   "execution_count": 6,
   "id": "6da00aba",
   "metadata": {
    "scrolled": false
   },
   "outputs": [
    {
     "data": {
      "text/html": [
       "<div>\n",
       "<style scoped>\n",
       "    .dataframe tbody tr th:only-of-type {\n",
       "        vertical-align: middle;\n",
       "    }\n",
       "\n",
       "    .dataframe tbody tr th {\n",
       "        vertical-align: top;\n",
       "    }\n",
       "\n",
       "    .dataframe thead th {\n",
       "        text-align: right;\n",
       "    }\n",
       "</style>\n",
       "<table border=\"1\" class=\"dataframe\">\n",
       "  <thead>\n",
       "    <tr style=\"text-align: right;\">\n",
       "      <th></th>\n",
       "      <th>f0</th>\n",
       "      <th>f1</th>\n",
       "      <th>f2</th>\n",
       "      <th>product</th>\n",
       "    </tr>\n",
       "  </thead>\n",
       "  <tbody>\n",
       "    <tr>\n",
       "      <th>0</th>\n",
       "      <td>0.705745</td>\n",
       "      <td>-0.497823</td>\n",
       "      <td>1.22117</td>\n",
       "      <td>105.280062</td>\n",
       "    </tr>\n",
       "    <tr>\n",
       "      <th>1</th>\n",
       "      <td>1.334711</td>\n",
       "      <td>-0.340164</td>\n",
       "      <td>4.36508</td>\n",
       "      <td>73.037750</td>\n",
       "    </tr>\n",
       "  </tbody>\n",
       "</table>\n",
       "</div>"
      ],
      "text/plain": [
       "         f0        f1       f2     product\n",
       "0  0.705745 -0.497823  1.22117  105.280062\n",
       "1  1.334711 -0.340164  4.36508   73.037750"
      ]
     },
     "execution_count": 6,
     "metadata": {},
     "output_type": "execute_result"
    }
   ],
   "source": [
    "# Making a copy of the data set.\n",
    "reg1_raw = reg1.copy()\n",
    "\n",
    "# Getting rid of id column.\n",
    "reg1 = reg1.drop('id', axis = 1)\n",
    "reg1.head(2)"
   ]
  },
  {
   "cell_type": "code",
   "execution_count": 7,
   "id": "12e097bf",
   "metadata": {},
   "outputs": [
    {
     "data": {
      "text/html": [
       "<div>\n",
       "<style scoped>\n",
       "    .dataframe tbody tr th:only-of-type {\n",
       "        vertical-align: middle;\n",
       "    }\n",
       "\n",
       "    .dataframe tbody tr th {\n",
       "        vertical-align: top;\n",
       "    }\n",
       "\n",
       "    .dataframe thead th {\n",
       "        text-align: right;\n",
       "    }\n",
       "</style>\n",
       "<table border=\"1\" class=\"dataframe\">\n",
       "  <thead>\n",
       "    <tr style=\"text-align: right;\">\n",
       "      <th></th>\n",
       "      <th>f0</th>\n",
       "      <th>f1</th>\n",
       "      <th>f2</th>\n",
       "      <th>product</th>\n",
       "    </tr>\n",
       "  </thead>\n",
       "  <tbody>\n",
       "    <tr>\n",
       "      <th>count</th>\n",
       "      <td>100000.000000</td>\n",
       "      <td>100000.000000</td>\n",
       "      <td>100000.000000</td>\n",
       "      <td>100000.000000</td>\n",
       "    </tr>\n",
       "    <tr>\n",
       "      <th>mean</th>\n",
       "      <td>0.500419</td>\n",
       "      <td>0.250143</td>\n",
       "      <td>2.502647</td>\n",
       "      <td>92.500000</td>\n",
       "    </tr>\n",
       "    <tr>\n",
       "      <th>std</th>\n",
       "      <td>0.871832</td>\n",
       "      <td>0.504433</td>\n",
       "      <td>3.248248</td>\n",
       "      <td>44.288691</td>\n",
       "    </tr>\n",
       "    <tr>\n",
       "      <th>min</th>\n",
       "      <td>-1.408605</td>\n",
       "      <td>-0.848218</td>\n",
       "      <td>-12.088328</td>\n",
       "      <td>0.000000</td>\n",
       "    </tr>\n",
       "    <tr>\n",
       "      <th>25%</th>\n",
       "      <td>-0.072580</td>\n",
       "      <td>-0.200881</td>\n",
       "      <td>0.287748</td>\n",
       "      <td>56.497507</td>\n",
       "    </tr>\n",
       "    <tr>\n",
       "      <th>50%</th>\n",
       "      <td>0.502360</td>\n",
       "      <td>0.250252</td>\n",
       "      <td>2.515969</td>\n",
       "      <td>91.849972</td>\n",
       "    </tr>\n",
       "    <tr>\n",
       "      <th>75%</th>\n",
       "      <td>1.073581</td>\n",
       "      <td>0.700646</td>\n",
       "      <td>4.715088</td>\n",
       "      <td>128.564089</td>\n",
       "    </tr>\n",
       "    <tr>\n",
       "      <th>max</th>\n",
       "      <td>2.362331</td>\n",
       "      <td>1.343769</td>\n",
       "      <td>16.003790</td>\n",
       "      <td>185.364347</td>\n",
       "    </tr>\n",
       "  </tbody>\n",
       "</table>\n",
       "</div>"
      ],
      "text/plain": [
       "                  f0             f1             f2        product\n",
       "count  100000.000000  100000.000000  100000.000000  100000.000000\n",
       "mean        0.500419       0.250143       2.502647      92.500000\n",
       "std         0.871832       0.504433       3.248248      44.288691\n",
       "min        -1.408605      -0.848218     -12.088328       0.000000\n",
       "25%        -0.072580      -0.200881       0.287748      56.497507\n",
       "50%         0.502360       0.250252       2.515969      91.849972\n",
       "75%         1.073581       0.700646       4.715088     128.564089\n",
       "max         2.362331       1.343769      16.003790     185.364347"
      ]
     },
     "execution_count": 7,
     "metadata": {},
     "output_type": "execute_result"
    }
   ],
   "source": [
    "reg1.describe()"
   ]
  },
  {
   "cell_type": "markdown",
   "id": "4218194b",
   "metadata": {},
   "source": [
    "### Second region data inspection:"
   ]
  },
  {
   "cell_type": "code",
   "execution_count": 8,
   "id": "98d92f7a",
   "metadata": {},
   "outputs": [
    {
     "data": {
      "text/html": [
       "<div>\n",
       "<style scoped>\n",
       "    .dataframe tbody tr th:only-of-type {\n",
       "        vertical-align: middle;\n",
       "    }\n",
       "\n",
       "    .dataframe tbody tr th {\n",
       "        vertical-align: top;\n",
       "    }\n",
       "\n",
       "    .dataframe thead th {\n",
       "        text-align: right;\n",
       "    }\n",
       "</style>\n",
       "<table border=\"1\" class=\"dataframe\">\n",
       "  <thead>\n",
       "    <tr style=\"text-align: right;\">\n",
       "      <th></th>\n",
       "      <th>id</th>\n",
       "      <th>f0</th>\n",
       "      <th>f1</th>\n",
       "      <th>f2</th>\n",
       "      <th>product</th>\n",
       "    </tr>\n",
       "  </thead>\n",
       "  <tbody>\n",
       "    <tr>\n",
       "      <th>29620</th>\n",
       "      <td>GUtpo</td>\n",
       "      <td>-2.876635</td>\n",
       "      <td>-6.823078</td>\n",
       "      <td>3.002195</td>\n",
       "      <td>84.038886</td>\n",
       "    </tr>\n",
       "    <tr>\n",
       "      <th>49835</th>\n",
       "      <td>VrZkw</td>\n",
       "      <td>-6.623307</td>\n",
       "      <td>-1.240629</td>\n",
       "      <td>1.000324</td>\n",
       "      <td>30.132364</td>\n",
       "    </tr>\n",
       "    <tr>\n",
       "      <th>88766</th>\n",
       "      <td>rMiAS</td>\n",
       "      <td>15.511561</td>\n",
       "      <td>-0.937813</td>\n",
       "      <td>-0.010283</td>\n",
       "      <td>0.000000</td>\n",
       "    </tr>\n",
       "    <tr>\n",
       "      <th>7869</th>\n",
       "      <td>Hd3HU</td>\n",
       "      <td>0.886667</td>\n",
       "      <td>-7.015408</td>\n",
       "      <td>4.009139</td>\n",
       "      <td>110.992147</td>\n",
       "    </tr>\n",
       "    <tr>\n",
       "      <th>56154</th>\n",
       "      <td>JWI90</td>\n",
       "      <td>11.721453</td>\n",
       "      <td>6.411519</td>\n",
       "      <td>2.003406</td>\n",
       "      <td>53.906522</td>\n",
       "    </tr>\n",
       "  </tbody>\n",
       "</table>\n",
       "</div>"
      ],
      "text/plain": [
       "          id         f0        f1        f2     product\n",
       "29620  GUtpo  -2.876635 -6.823078  3.002195   84.038886\n",
       "49835  VrZkw  -6.623307 -1.240629  1.000324   30.132364\n",
       "88766  rMiAS  15.511561 -0.937813 -0.010283    0.000000\n",
       "7869   Hd3HU   0.886667 -7.015408  4.009139  110.992147\n",
       "56154  JWI90  11.721453  6.411519  2.003406   53.906522"
      ]
     },
     "execution_count": 8,
     "metadata": {},
     "output_type": "execute_result"
    }
   ],
   "source": [
    "# Showing data smples\n",
    "reg2.sample(5)"
   ]
  },
  {
   "cell_type": "code",
   "execution_count": 9,
   "id": "72669d6d",
   "metadata": {},
   "outputs": [
    {
     "name": "stdout",
     "output_type": "stream",
     "text": [
      "<class 'pandas.core.frame.DataFrame'>\n",
      "RangeIndex: 100000 entries, 0 to 99999\n",
      "Data columns (total 5 columns):\n",
      " #   Column   Non-Null Count   Dtype  \n",
      "---  ------   --------------   -----  \n",
      " 0   id       100000 non-null  object \n",
      " 1   f0       100000 non-null  float64\n",
      " 2   f1       100000 non-null  float64\n",
      " 3   f2       100000 non-null  float64\n",
      " 4   product  100000 non-null  float64\n",
      "dtypes: float64(4), object(1)\n",
      "memory usage: 3.8+ MB\n"
     ]
    }
   ],
   "source": [
    "# Showing basic data information\n",
    "reg2.info()"
   ]
  },
  {
   "cell_type": "markdown",
   "id": "873d3913",
   "metadata": {},
   "source": [
    "No missing data!"
   ]
  },
  {
   "cell_type": "code",
   "execution_count": 10,
   "id": "d2d3dc44",
   "metadata": {},
   "outputs": [
    {
     "name": "stdout",
     "output_type": "stream",
     "text": [
      "There are 0 duplicated rows in the data frame\n"
     ]
    }
   ],
   "source": [
    "# Checking for duplicated rows\n",
    "dup = reg2.duplicated()\n",
    "print(f\"There are {dup.sum()} duplicated rows in the data frame\")"
   ]
  },
  {
   "cell_type": "markdown",
   "id": "99926faa",
   "metadata": {},
   "source": [
    "* The `id` column is not numerical and therefor not fit for our model. I could encode it but it is redundant because this column has no value for the model.\n",
    "\n",
    "* I'll will just get rid of it"
   ]
  },
  {
   "cell_type": "code",
   "execution_count": 11,
   "id": "b195bf3d",
   "metadata": {
    "scrolled": true
   },
   "outputs": [
    {
     "data": {
      "text/html": [
       "<div>\n",
       "<style scoped>\n",
       "    .dataframe tbody tr th:only-of-type {\n",
       "        vertical-align: middle;\n",
       "    }\n",
       "\n",
       "    .dataframe tbody tr th {\n",
       "        vertical-align: top;\n",
       "    }\n",
       "\n",
       "    .dataframe thead th {\n",
       "        text-align: right;\n",
       "    }\n",
       "</style>\n",
       "<table border=\"1\" class=\"dataframe\">\n",
       "  <thead>\n",
       "    <tr style=\"text-align: right;\">\n",
       "      <th></th>\n",
       "      <th>f0</th>\n",
       "      <th>f1</th>\n",
       "      <th>f2</th>\n",
       "      <th>product</th>\n",
       "    </tr>\n",
       "  </thead>\n",
       "  <tbody>\n",
       "    <tr>\n",
       "      <th>0</th>\n",
       "      <td>-15.001348</td>\n",
       "      <td>-8.276000</td>\n",
       "      <td>-0.005876</td>\n",
       "      <td>3.179103</td>\n",
       "    </tr>\n",
       "    <tr>\n",
       "      <th>1</th>\n",
       "      <td>14.272088</td>\n",
       "      <td>-3.475083</td>\n",
       "      <td>0.999183</td>\n",
       "      <td>26.953261</td>\n",
       "    </tr>\n",
       "  </tbody>\n",
       "</table>\n",
       "</div>"
      ],
      "text/plain": [
       "          f0        f1        f2    product\n",
       "0 -15.001348 -8.276000 -0.005876   3.179103\n",
       "1  14.272088 -3.475083  0.999183  26.953261"
      ]
     },
     "execution_count": 11,
     "metadata": {},
     "output_type": "execute_result"
    }
   ],
   "source": [
    "# Making a copy of the data set.\n",
    "reg2_raw = reg2.copy()\n",
    "\n",
    "# Getting rid of id column.\n",
    "reg2 = reg2.drop('id', axis = 1)\n",
    "reg2.head(2)"
   ]
  },
  {
   "cell_type": "markdown",
   "id": "e7105b59",
   "metadata": {},
   "source": [
    "### Third region data inspection:"
   ]
  },
  {
   "cell_type": "code",
   "execution_count": 12,
   "id": "a87eb0d3",
   "metadata": {},
   "outputs": [
    {
     "data": {
      "text/html": [
       "<div>\n",
       "<style scoped>\n",
       "    .dataframe tbody tr th:only-of-type {\n",
       "        vertical-align: middle;\n",
       "    }\n",
       "\n",
       "    .dataframe tbody tr th {\n",
       "        vertical-align: top;\n",
       "    }\n",
       "\n",
       "    .dataframe thead th {\n",
       "        text-align: right;\n",
       "    }\n",
       "</style>\n",
       "<table border=\"1\" class=\"dataframe\">\n",
       "  <thead>\n",
       "    <tr style=\"text-align: right;\">\n",
       "      <th></th>\n",
       "      <th>id</th>\n",
       "      <th>f0</th>\n",
       "      <th>f1</th>\n",
       "      <th>f2</th>\n",
       "      <th>product</th>\n",
       "    </tr>\n",
       "  </thead>\n",
       "  <tbody>\n",
       "    <tr>\n",
       "      <th>53687</th>\n",
       "      <td>KMR24</td>\n",
       "      <td>-2.276841</td>\n",
       "      <td>-0.790219</td>\n",
       "      <td>-0.474706</td>\n",
       "      <td>75.996201</td>\n",
       "    </tr>\n",
       "    <tr>\n",
       "      <th>21202</th>\n",
       "      <td>M2kLR</td>\n",
       "      <td>2.287307</td>\n",
       "      <td>1.599090</td>\n",
       "      <td>4.565334</td>\n",
       "      <td>160.056550</td>\n",
       "    </tr>\n",
       "    <tr>\n",
       "      <th>71506</th>\n",
       "      <td>NDWM5</td>\n",
       "      <td>-2.720173</td>\n",
       "      <td>2.092016</td>\n",
       "      <td>0.554109</td>\n",
       "      <td>152.713995</td>\n",
       "    </tr>\n",
       "    <tr>\n",
       "      <th>68223</th>\n",
       "      <td>kqCK2</td>\n",
       "      <td>0.273945</td>\n",
       "      <td>-0.120453</td>\n",
       "      <td>5.823647</td>\n",
       "      <td>54.600286</td>\n",
       "    </tr>\n",
       "    <tr>\n",
       "      <th>91036</th>\n",
       "      <td>TDQtJ</td>\n",
       "      <td>-0.340096</td>\n",
       "      <td>1.162068</td>\n",
       "      <td>12.004140</td>\n",
       "      <td>155.182628</td>\n",
       "    </tr>\n",
       "  </tbody>\n",
       "</table>\n",
       "</div>"
      ],
      "text/plain": [
       "          id        f0        f1         f2     product\n",
       "53687  KMR24 -2.276841 -0.790219  -0.474706   75.996201\n",
       "21202  M2kLR  2.287307  1.599090   4.565334  160.056550\n",
       "71506  NDWM5 -2.720173  2.092016   0.554109  152.713995\n",
       "68223  kqCK2  0.273945 -0.120453   5.823647   54.600286\n",
       "91036  TDQtJ -0.340096  1.162068  12.004140  155.182628"
      ]
     },
     "execution_count": 12,
     "metadata": {},
     "output_type": "execute_result"
    }
   ],
   "source": [
    "# Showing data smples\n",
    "reg3.sample(5)"
   ]
  },
  {
   "cell_type": "code",
   "execution_count": 13,
   "id": "39126962",
   "metadata": {},
   "outputs": [
    {
     "name": "stdout",
     "output_type": "stream",
     "text": [
      "<class 'pandas.core.frame.DataFrame'>\n",
      "RangeIndex: 100000 entries, 0 to 99999\n",
      "Data columns (total 5 columns):\n",
      " #   Column   Non-Null Count   Dtype  \n",
      "---  ------   --------------   -----  \n",
      " 0   id       100000 non-null  object \n",
      " 1   f0       100000 non-null  float64\n",
      " 2   f1       100000 non-null  float64\n",
      " 3   f2       100000 non-null  float64\n",
      " 4   product  100000 non-null  float64\n",
      "dtypes: float64(4), object(1)\n",
      "memory usage: 3.8+ MB\n"
     ]
    }
   ],
   "source": [
    "# Showing basic data information\n",
    "reg3.info()"
   ]
  },
  {
   "cell_type": "markdown",
   "id": "c545efee",
   "metadata": {},
   "source": [
    "No missing data!"
   ]
  },
  {
   "cell_type": "code",
   "execution_count": 14,
   "id": "96d35e50",
   "metadata": {},
   "outputs": [
    {
     "name": "stdout",
     "output_type": "stream",
     "text": [
      "There are 0 duplicated rows in the data frame\n"
     ]
    }
   ],
   "source": [
    "# Checking for duplicated rows\n",
    "dup = reg3.duplicated()\n",
    "print(f\"There are {dup.sum()} duplicated rows in the data frame\")"
   ]
  },
  {
   "cell_type": "code",
   "execution_count": 15,
   "id": "4e3f0f16",
   "metadata": {
    "scrolled": false
   },
   "outputs": [
    {
     "data": {
      "text/html": [
       "<div>\n",
       "<style scoped>\n",
       "    .dataframe tbody tr th:only-of-type {\n",
       "        vertical-align: middle;\n",
       "    }\n",
       "\n",
       "    .dataframe tbody tr th {\n",
       "        vertical-align: top;\n",
       "    }\n",
       "\n",
       "    .dataframe thead th {\n",
       "        text-align: right;\n",
       "    }\n",
       "</style>\n",
       "<table border=\"1\" class=\"dataframe\">\n",
       "  <thead>\n",
       "    <tr style=\"text-align: right;\">\n",
       "      <th></th>\n",
       "      <th>f0</th>\n",
       "      <th>f1</th>\n",
       "      <th>f2</th>\n",
       "      <th>product</th>\n",
       "    </tr>\n",
       "  </thead>\n",
       "  <tbody>\n",
       "    <tr>\n",
       "      <th>0</th>\n",
       "      <td>-1.146987</td>\n",
       "      <td>0.963328</td>\n",
       "      <td>-0.828965</td>\n",
       "      <td>27.758673</td>\n",
       "    </tr>\n",
       "    <tr>\n",
       "      <th>1</th>\n",
       "      <td>0.262778</td>\n",
       "      <td>0.269839</td>\n",
       "      <td>-2.530187</td>\n",
       "      <td>56.069697</td>\n",
       "    </tr>\n",
       "  </tbody>\n",
       "</table>\n",
       "</div>"
      ],
      "text/plain": [
       "         f0        f1        f2    product\n",
       "0 -1.146987  0.963328 -0.828965  27.758673\n",
       "1  0.262778  0.269839 -2.530187  56.069697"
      ]
     },
     "execution_count": 15,
     "metadata": {},
     "output_type": "execute_result"
    }
   ],
   "source": [
    "# Making a copy of the data set.\n",
    "reg3_raw = reg3.copy()\n",
    "\n",
    "# Getting rid of id column.\n",
    "reg3 = reg3.drop('id', axis = 1)\n",
    "reg3.head(2)"
   ]
  },
  {
   "cell_type": "code",
   "execution_count": 16,
   "id": "8f28344d",
   "metadata": {},
   "outputs": [
    {
     "data": {
      "text/html": [
       "<div>\n",
       "<style scoped>\n",
       "    .dataframe tbody tr th:only-of-type {\n",
       "        vertical-align: middle;\n",
       "    }\n",
       "\n",
       "    .dataframe tbody tr th {\n",
       "        vertical-align: top;\n",
       "    }\n",
       "\n",
       "    .dataframe thead th {\n",
       "        text-align: right;\n",
       "    }\n",
       "</style>\n",
       "<table border=\"1\" class=\"dataframe\">\n",
       "  <thead>\n",
       "    <tr style=\"text-align: right;\">\n",
       "      <th></th>\n",
       "      <th>f0</th>\n",
       "      <th>f1</th>\n",
       "      <th>f2</th>\n",
       "      <th>product</th>\n",
       "    </tr>\n",
       "  </thead>\n",
       "  <tbody>\n",
       "    <tr>\n",
       "      <th>count</th>\n",
       "      <td>100000.000000</td>\n",
       "      <td>100000.000000</td>\n",
       "      <td>100000.000000</td>\n",
       "      <td>100000.000000</td>\n",
       "    </tr>\n",
       "    <tr>\n",
       "      <th>mean</th>\n",
       "      <td>0.002023</td>\n",
       "      <td>-0.002081</td>\n",
       "      <td>2.495128</td>\n",
       "      <td>95.000000</td>\n",
       "    </tr>\n",
       "    <tr>\n",
       "      <th>std</th>\n",
       "      <td>1.732045</td>\n",
       "      <td>1.730417</td>\n",
       "      <td>3.473445</td>\n",
       "      <td>44.749921</td>\n",
       "    </tr>\n",
       "    <tr>\n",
       "      <th>min</th>\n",
       "      <td>-8.760004</td>\n",
       "      <td>-7.084020</td>\n",
       "      <td>-11.970335</td>\n",
       "      <td>0.000000</td>\n",
       "    </tr>\n",
       "    <tr>\n",
       "      <th>25%</th>\n",
       "      <td>-1.162288</td>\n",
       "      <td>-1.174820</td>\n",
       "      <td>0.130359</td>\n",
       "      <td>59.450441</td>\n",
       "    </tr>\n",
       "    <tr>\n",
       "      <th>50%</th>\n",
       "      <td>0.009424</td>\n",
       "      <td>-0.009482</td>\n",
       "      <td>2.484236</td>\n",
       "      <td>94.925613</td>\n",
       "    </tr>\n",
       "    <tr>\n",
       "      <th>75%</th>\n",
       "      <td>1.158535</td>\n",
       "      <td>1.163678</td>\n",
       "      <td>4.858794</td>\n",
       "      <td>130.595027</td>\n",
       "    </tr>\n",
       "    <tr>\n",
       "      <th>max</th>\n",
       "      <td>7.238262</td>\n",
       "      <td>7.844801</td>\n",
       "      <td>16.739402</td>\n",
       "      <td>190.029838</td>\n",
       "    </tr>\n",
       "  </tbody>\n",
       "</table>\n",
       "</div>"
      ],
      "text/plain": [
       "                  f0             f1             f2        product\n",
       "count  100000.000000  100000.000000  100000.000000  100000.000000\n",
       "mean        0.002023      -0.002081       2.495128      95.000000\n",
       "std         1.732045       1.730417       3.473445      44.749921\n",
       "min        -8.760004      -7.084020     -11.970335       0.000000\n",
       "25%        -1.162288      -1.174820       0.130359      59.450441\n",
       "50%         0.009424      -0.009482       2.484236      94.925613\n",
       "75%         1.158535       1.163678       4.858794     130.595027\n",
       "max         7.238262       7.844801      16.739402     190.029838"
      ]
     },
     "execution_count": 16,
     "metadata": {},
     "output_type": "execute_result"
    }
   ],
   "source": [
    "reg3.describe()"
   ]
  },
  {
   "cell_type": "markdown",
   "id": "d207cb13",
   "metadata": {},
   "source": [
    "## summary:\n",
    "* No missing data .\n",
    "* No duplicated rows.\n",
    "* Got rid of `id` columns.\n",
    "\n",
    "\n",
    "The data is ready for training."
   ]
  },
  {
   "cell_type": "markdown",
   "id": "7c5231a8",
   "metadata": {},
   "source": [
    "# Train and test the model for each region:"
   ]
  },
  {
   "cell_type": "markdown",
   "id": "e3c8eca9",
   "metadata": {},
   "source": [
    "## Models training"
   ]
  },
  {
   "cell_type": "code",
   "execution_count": 17,
   "id": "97bd9abf",
   "metadata": {},
   "outputs": [],
   "source": [
    "#Function to split the data\n",
    "def split_data(region):\n",
    "    # Spliting the data into features and target\n",
    "    features = region.drop('product', axis=1)\n",
    "    target = region['product']\n",
    "    # Spliting the data into training set and validation set:\n",
    "    features_train, features_valid, target_train, target_valid = train_test_split(\n",
    "        features, target, test_size=0.25, random_state=12345)\n",
    "    \n",
    "    return features, features_train, features_valid, target_train, target_valid"
   ]
  },
  {
   "cell_type": "code",
   "execution_count": 18,
   "id": "8f931602",
   "metadata": {},
   "outputs": [],
   "source": [
    "# Spliting the first region data into traing and validation features and target\n",
    "features_1, features_train_1, features_valid_1, target_train_1, target_valid_1 =\\\n",
    "split_data(reg1)\n",
    "\n",
    "# Spliting the second region data into traing and validation features and target\n",
    "features_2, features_train_2, features_valid_2, target_train_2, target_valid_2 =\\\n",
    "split_data(reg2)\n",
    "\n",
    "# Spliting the third region data into traing and validation features and target\n",
    "features_3, features_train_3, features_valid_3, target_train_3, target_valid_3 =\\\n",
    "split_data(reg3)"
   ]
  },
  {
   "cell_type": "code",
   "execution_count": 19,
   "id": "9341de68",
   "metadata": {},
   "outputs": [],
   "source": [
    "# Lists for loops\n",
    "features = [features_1, features_2, features_3]\n",
    "X_trains = [features_train_1, features_train_2, features_train_3]\n",
    "y_trains = [target_train_1, target_train_2, target_train_3]\n",
    "X_vals = [features_valid_1, features_valid_2, features_valid_3]\n",
    "y_vals = [target_valid_1, target_valid_2, target_valid_3]\n",
    "regions = ['First region', 'Second region', 'Third region']"
   ]
  },
  {
   "cell_type": "code",
   "execution_count": 20,
   "id": "440cab29",
   "metadata": {},
   "outputs": [],
   "source": [
    "# Function to check data proportions\n",
    "def proportions(region, features_train,features_valid, features):\n",
    "    print(region + \" Proportions out of original data\")\n",
    "    print('----------------------------------')\n",
    "    print(f\" TRAINING set:     {features_train.shape[0]/features.shape[0]:.0%}\")\n",
    "    print(f\" VALIDATION set:   {features_valid.shape[0]/features.shape[0]:.0%}\\n\")"
   ]
  },
  {
   "cell_type": "code",
   "execution_count": 21,
   "id": "7178f947",
   "metadata": {},
   "outputs": [
    {
     "name": "stdout",
     "output_type": "stream",
     "text": [
      "First region Proportions out of original data\n",
      "----------------------------------\n",
      " TRAINING set:     75%\n",
      " VALIDATION set:   25%\n",
      "\n",
      "Second region Proportions out of original data\n",
      "----------------------------------\n",
      " TRAINING set:     75%\n",
      " VALIDATION set:   25%\n",
      "\n",
      "Third region Proportions out of original data\n",
      "----------------------------------\n",
      " TRAINING set:     75%\n",
      " VALIDATION set:   25%\n",
      "\n"
     ]
    }
   ],
   "source": [
    "# Checking data proportions\n",
    "for reg, X_train, X_val, X in zip(regions, X_trains, X_vals, features):\n",
    "    proportions(reg, X_train, X_val, X)"
   ]
  },
  {
   "cell_type": "code",
   "execution_count": 22,
   "id": "facd8656",
   "metadata": {},
   "outputs": [],
   "source": [
    "# Function to train and Validate \n",
    "def train_pred(region, features_train, target_train, features_valid, target_valid):\n",
    "\n",
    "    # Training the model\n",
    "    model = LinearRegression()\n",
    "    model.fit(features_train, target_train)\n",
    "\n",
    "    #Testing the model\n",
    "    r2_reg = model.score(features_valid, target_valid)\n",
    "    predicted_reg = model.predict(features_valid)\n",
    "    RMSE_reg = mean_squared_error(target_valid, predicted_reg, squared=False)\n",
    "    \n",
    "    return r2_reg, RMSE_reg, predicted_reg, "
   ]
  },
  {
   "cell_type": "code",
   "execution_count": 23,
   "id": "3bcf6acb",
   "metadata": {},
   "outputs": [],
   "source": [
    "# Function for printing results\n",
    "def print_results(region, r2_reg, RMSE_reg, predicted_reg, target_valid):    \n",
    "    print(region+' region model')\n",
    "    print('------------------')\n",
    "    print(f\"R2 = {r2_reg:.4f}\")\n",
    "    print(f\"RMSE = {RMSE_reg:.3f}\")\n",
    "    print(f\"Avarage predicted volume:{predicted_reg.mean():.3f}\")\n",
    "    print(f\"Avarage real volume:{target_valid.mean():.3f}\\n\")"
   ]
  },
  {
   "cell_type": "code",
   "execution_count": 24,
   "id": "4bd8a530",
   "metadata": {
    "scrolled": true
   },
   "outputs": [],
   "source": [
    "# First region training\n",
    "r2_reg_1, RMSE_reg_1, predicted_reg1 = train_pred\\\n",
    "(reg1, features_train_1, target_train_1, features_valid_1, target_valid_1 ) \n",
    "\n",
    "# Second region training\n",
    "r2_reg_2, RMSE_reg_2, predicted_reg2 = train_pred\\\n",
    "(reg2, features_train_2, target_train_2, features_valid_2, target_valid_2 )\n",
    "\n",
    "# Third region training\n",
    "r2_reg_3, RMSE_reg_3, predicted_reg3 = train_pred\\\n",
    "(reg3, features_train_3, target_train_3, features_valid_3, target_valid_3 )"
   ]
  },
  {
   "cell_type": "code",
   "execution_count": 25,
   "id": "725a3b5a",
   "metadata": {},
   "outputs": [],
   "source": [
    "# lists for loops\n",
    "r2s = [r2_reg_1, r2_reg_2, r2_reg_3]\n",
    "rmses = [RMSE_reg_1, RMSE_reg_2, RMSE_reg_3]\n",
    "predicteds = [predicted_reg1, predicted_reg2, predicted_reg3]"
   ]
  },
  {
   "cell_type": "code",
   "execution_count": 26,
   "id": "09255c8a",
   "metadata": {
    "scrolled": false
   },
   "outputs": [
    {
     "name": "stdout",
     "output_type": "stream",
     "text": [
      "First region region model\n",
      "------------------\n",
      "R2 = 0.2799\n",
      "RMSE = 37.579\n",
      "Avarage predicted volume:92.593\n",
      "Avarage real volume:92.079\n",
      "\n",
      "Second region region model\n",
      "------------------\n",
      "R2 = 0.9996\n",
      "RMSE = 0.893\n",
      "Avarage predicted volume:68.729\n",
      "Avarage real volume:68.723\n",
      "\n",
      "Third region region model\n",
      "------------------\n",
      "R2 = 0.2052\n",
      "RMSE = 40.030\n",
      "Avarage predicted volume:94.965\n",
      "Avarage real volume:94.884\n",
      "\n"
     ]
    }
   ],
   "source": [
    "# printing results\n",
    "for region, r2_reg, RMSE_reg, predicted_reg, target_valid in zip(regions, r2s, rmses, predicteds, y_vals):\n",
    "    print_results(region, r2_reg, RMSE_reg, predicted_reg, target_valid)"
   ]
  },
  {
   "cell_type": "markdown",
   "id": "c3b521e6",
   "metadata": {},
   "source": [
    "## Conclussions:\n",
    "\n",
    "* The most accurate model is the model of the second region. with very high R2 (0.99) and very low RMSE (0.8).\n",
    "\n",
    "\n",
    "* The richest (in oil) region is the third one with average of 94000 barrels and the poorest is the second with an average of 68000 barrels.  \n"
   ]
  },
  {
   "cell_type": "markdown",
   "id": "ec4c4a86",
   "metadata": {},
   "source": [
    "# Prepare for profit calculation:"
   ]
  },
  {
   "cell_type": "markdown",
   "id": "62ecfa0c",
   "metadata": {},
   "source": [
    "## Store all key values for calculations in separate variables."
   ]
  },
  {
   "cell_type": "code",
   "execution_count": 27,
   "id": "ce476121",
   "metadata": {},
   "outputs": [
    {
     "name": "stdout",
     "output_type": "stream",
     "text": [
      "Cost per well = 500000\n"
     ]
    }
   ],
   "source": [
    "budget = 100000000\n",
    "wells = 200\n",
    "cost_per_well = budget/wells\n",
    "unit_revenue = 4500 \n",
    "print(f\"Cost per well = {cost_per_well:.0f}\")"
   ]
  },
  {
   "cell_type": "markdown",
   "id": "df29f2c7",
   "metadata": {},
   "source": [
    "## Calculate the volume of reserves sufficient for developing a new well without losses. Compare the obtained value with the average volume of reserves in each region."
   ]
  },
  {
   "cell_type": "code",
   "execution_count": 28,
   "id": "4884c483",
   "metadata": {},
   "outputs": [
    {
     "name": "stdout",
     "output_type": "stream",
     "text": [
      "Minimum reserves for well without loosing money(in thousand barrels): 111.111\n"
     ]
    }
   ],
   "source": [
    "min_reserves_for_well = cost_per_well / unit_revenue\n",
    "print(f\"Minimum reserves for well without loosing money(in thousand barrels): {min_reserves_for_well:.3f}\")"
   ]
  },
  {
   "cell_type": "code",
   "execution_count": 29,
   "id": "3f83f18b",
   "metadata": {},
   "outputs": [
    {
     "name": "stdout",
     "output_type": "stream",
     "text": [
      "Difference between average reserves and minimum reserves\n",
      "--------------------------------------------------------\n",
      "\n",
      "First Region: -19.033\n",
      "Second Region: -42.388\n",
      "Third Region: -16.227\n"
     ]
    }
   ],
   "source": [
    "print('Difference between average reserves and minimum reserves')\n",
    "print('--------------------------------------------------------\\n')\n",
    "\n",
    "print(f\"First Region: {target_valid_1.mean() - min_reserves_for_well:.3f}\")\n",
    "print(f\"Second Region: {target_valid_2.mean() - min_reserves_for_well:.3f}\")\n",
    "print(f\"Third Region: {target_valid_3.mean() - min_reserves_for_well:.3f}\")"
   ]
  },
  {
   "cell_type": "markdown",
   "id": "3525a5c0",
   "metadata": {},
   "source": [
    "## conclusions:\n",
    "\n",
    "* In all the regions the average reserves are not enough to make profit out of a new oil well.\n",
    "* For that reason we need to choose the richest oil wells.\n",
    "* As I mentioned before, The richest region is the third one and the poorest is the second."
   ]
  },
  {
   "cell_type": "markdown",
   "id": "4c42d736",
   "metadata": {},
   "source": [
    "# Write a function to calculate profit from a set of selected oil wells and model predictions:"
   ]
  },
  {
   "cell_type": "markdown",
   "id": "f8d5ca3b",
   "metadata": {},
   "source": [
    "## Pick the wells with the highest values of predictions."
   ]
  },
  {
   "cell_type": "code",
   "execution_count": 30,
   "id": "8ba4a40d",
   "metadata": {},
   "outputs": [],
   "source": [
    "#A function for creating predictions and target data frames\n",
    "def tar_pred(target, predictions):\n",
    "    df = pd.DataFrame({'target': target,'predictions':predictions})\n",
    "    return df"
   ]
  },
  {
   "cell_type": "code",
   "execution_count": 31,
   "id": "a89a4d8e",
   "metadata": {},
   "outputs": [],
   "source": [
    "# Creating predictions and target data frames\n",
    "\n",
    "tar_and_pred1 = tar_pred(target_valid_1,predicted_reg1)\n",
    "tar_and_pred2 = tar_pred(target_valid_2,predicted_reg2)\n",
    "tar_and_pred3 = tar_pred(target_valid_3,predicted_reg3)"
   ]
  },
  {
   "cell_type": "code",
   "execution_count": 32,
   "id": "053efdaa",
   "metadata": {},
   "outputs": [],
   "source": [
    "# Profit function\n",
    "\n",
    "def revenue(df, count):\n",
    "    \n",
    "    #Selecting best wells\n",
    "    selected = df.sort_values(by='predictions', ascending=False).head(count)\n",
    "    selected = selected['target'].head(200)\n",
    "    #Calculate revenue and profit\n",
    "    revenue =  unit_revenue * selected.sum()\n",
    "    profit = revenue - budget\n",
    "    \n",
    "    return selected, profit"
   ]
  },
  {
   "cell_type": "code",
   "execution_count": 33,
   "id": "4872392d",
   "metadata": {
    "scrolled": true
   },
   "outputs": [],
   "source": [
    "# First region\n",
    "selected1, profit1  = revenue(tar_and_pred1, 200)"
   ]
  },
  {
   "cell_type": "code",
   "execution_count": 34,
   "id": "4f0ea38a",
   "metadata": {
    "scrolled": true
   },
   "outputs": [],
   "source": [
    "# Second region\n",
    "selected2, profit2= revenue(tar_and_pred2, 200)"
   ]
  },
  {
   "cell_type": "code",
   "execution_count": 35,
   "id": "75de52e7",
   "metadata": {
    "scrolled": true
   },
   "outputs": [],
   "source": [
    "#Third regeion\n",
    "selected3, profit3= revenue(tar_and_pred3, 200)"
   ]
  },
  {
   "cell_type": "markdown",
   "id": "0a2cead9",
   "metadata": {},
   "source": [
    "### First region"
   ]
  },
  {
   "cell_type": "code",
   "execution_count": 36,
   "id": "da925cc1",
   "metadata": {
    "scrolled": true
   },
   "outputs": [
    {
     "data": {
      "text/plain": [
       "93073    162.810993\n",
       "46784    153.639837\n",
       "78948    162.153488\n",
       "43388     96.893581\n",
       "6496     178.879516\n",
       "            ...    \n",
       "30488    179.683422\n",
       "98799     95.396917\n",
       "53840    160.361464\n",
       "4638     102.186603\n",
       "75908    119.890261\n",
       "Name: target, Length: 200, dtype: float64"
      ]
     },
     "execution_count": 36,
     "metadata": {},
     "output_type": "execute_result"
    }
   ],
   "source": [
    "# Selected wells\n",
    "selected1"
   ]
  },
  {
   "cell_type": "code",
   "execution_count": 37,
   "id": "48f5f4c4",
   "metadata": {},
   "outputs": [
    {
     "name": "stdout",
     "output_type": "stream",
     "text": [
      "The proportions of unprofitable wells out of the selected wells is:\n",
      "9.5%\n"
     ]
    }
   ],
   "source": [
    "# Calculating the proportions of unprifitable wells in the selected 200\n",
    "print(f\"The proportions of unprofitable wells out of the selected wells is:\\n{selected1[selected1<=min_reserves_for_well].count()/selected1.shape[0]:.1%}\")"
   ]
  },
  {
   "cell_type": "markdown",
   "id": "daeec2cd",
   "metadata": {},
   "source": [
    "### Second region"
   ]
  },
  {
   "cell_type": "code",
   "execution_count": 38,
   "id": "5095722e",
   "metadata": {
    "scrolled": true
   },
   "outputs": [
    {
     "data": {
      "text/plain": [
       "38665    137.945408\n",
       "20191    137.945408\n",
       "14041    137.945408\n",
       "24274    137.945408\n",
       "92782    137.945408\n",
       "            ...    \n",
       "13370    137.945408\n",
       "45823    137.945408\n",
       "86987    137.945408\n",
       "72313    137.945408\n",
       "59892    137.945408\n",
       "Name: target, Length: 200, dtype: float64"
      ]
     },
     "execution_count": 38,
     "metadata": {},
     "output_type": "execute_result"
    }
   ],
   "source": [
    "# Selected wells\n",
    "selected2"
   ]
  },
  {
   "cell_type": "code",
   "execution_count": 39,
   "id": "ce30fc79",
   "metadata": {},
   "outputs": [
    {
     "name": "stdout",
     "output_type": "stream",
     "text": [
      "The proportions of unprofitable wells out of the selected wells is:\n",
      "0.0%\n"
     ]
    }
   ],
   "source": [
    "# Calculating the proportions of unprifitable wells in the selected 200\n",
    "print(f\"The proportions of unprofitable wells out of the selected wells is:\\n{selected2[selected2<=min_reserves_for_well].count()/selected2.shape[0]:.1%}\")"
   ]
  },
  {
   "cell_type": "markdown",
   "id": "c3baa360",
   "metadata": {},
   "source": [
    " ### Third region"
   ]
  },
  {
   "cell_type": "code",
   "execution_count": 40,
   "id": "c1363965",
   "metadata": {
    "scrolled": false
   },
   "outputs": [
    {
     "data": {
      "text/plain": [
       "98619    175.103291\n",
       "46649    131.627481\n",
       "82661    141.160070\n",
       "53151    159.676082\n",
       "18747    142.135203\n",
       "            ...    \n",
       "66244    104.949568\n",
       "34285     89.492500\n",
       "36778    184.895101\n",
       "7806     137.480469\n",
       "62558    134.507140\n",
       "Name: target, Length: 200, dtype: float64"
      ]
     },
     "execution_count": 40,
     "metadata": {},
     "output_type": "execute_result"
    }
   ],
   "source": [
    "# Selected wells\n",
    "selected3"
   ]
  },
  {
   "cell_type": "code",
   "execution_count": 41,
   "id": "e4ab79a6",
   "metadata": {},
   "outputs": [
    {
     "name": "stdout",
     "output_type": "stream",
     "text": [
      "The proportions of unprofitable wells out of the selected wells is:\n",
      "14.0%\n"
     ]
    }
   ],
   "source": [
    "# Calculating the proportions of unprifitable wells in the selected 200\n",
    "print(f\"The proportions of unprofitable wells out of the selected wells is:\\n{selected3[selected3<=min_reserves_for_well].count()/selected3.shape[0]:.1%}\")"
   ]
  },
  {
   "cell_type": "markdown",
   "id": "35ba5e8f",
   "metadata": {},
   "source": [
    "## Summarize the target volume of reserves in accordance with these predictions\n",
    "\n",
    "* The target volume is 111.111(thousand) barrels for each well.\n",
    "\n",
    "\n",
    "* In the first region 9.5% of the best 200 wells are under the target volume.\n",
    "\n",
    "\n",
    "* In the second region none of the best 200 wells are under the target volume.\n",
    "\n",
    "\n",
    "* In the third region 14% of the best 200 wells are under the target volume.\n",
    "\n",
    "\n",
    "* We can get profit from the richest 200 wells in every region!"
   ]
  },
  {
   "cell_type": "markdown",
   "id": "38c3cf76",
   "metadata": {},
   "source": [
    "## Provide findings: suggest a region for oil wells' development and justify the choice. Calculate the profit for the obtained volume of reserves."
   ]
  },
  {
   "cell_type": "code",
   "execution_count": 42,
   "id": "47c98ddc",
   "metadata": {},
   "outputs": [
    {
     "name": "stdout",
     "output_type": "stream",
     "text": [
      "First region profit: 33208260.43, Dollars\n"
     ]
    }
   ],
   "source": [
    "# First region profit\n",
    "print(f\"First region profit: {profit1:.2f}, Dollars\")"
   ]
  },
  {
   "cell_type": "code",
   "execution_count": 43,
   "id": "1bd8c67f",
   "metadata": {},
   "outputs": [
    {
     "name": "stdout",
     "output_type": "stream",
     "text": [
      "Second region profit: 24150866.97, Dollars\n"
     ]
    }
   ],
   "source": [
    "# Second region profit\n",
    "print(f\"Second region profit: {profit2:.2f}, Dollars\")"
   ]
  },
  {
   "cell_type": "code",
   "execution_count": 44,
   "id": "257e48f6",
   "metadata": {},
   "outputs": [
    {
     "name": "stdout",
     "output_type": "stream",
     "text": [
      "Third region profit: 27103499.64, Dollars\n"
     ]
    }
   ],
   "source": [
    "# Third region profit\n",
    "print(f\"Third region profit: {profit3:.2f}, Dollars\")"
   ]
  },
  {
   "cell_type": "markdown",
   "id": "72c295fe",
   "metadata": {},
   "source": [
    "## Conclusions:\n",
    "\n",
    "* The most profitable is the first region but its predicting model is the least accurate (still prety good).\n",
    "* The least profitable is the second region (with the highest accurate model)"
   ]
  },
  {
   "cell_type": "markdown",
   "id": "0a94ea76",
   "metadata": {},
   "source": [
    "# Calculate risks and profit for each region:\n"
   ]
  },
  {
   "cell_type": "markdown",
   "id": "244cbf4a",
   "metadata": {},
   "source": [
    "## Use the bootstrapping technique with 1000 samples to find the distribution of profit."
   ]
  },
  {
   "cell_type": "code",
   "execution_count": 45,
   "id": "cb23f52d",
   "metadata": {},
   "outputs": [],
   "source": [
    "def bootstrap(df):\n",
    "    state = np.random.RandomState(12345)\n",
    "    values =[]\n",
    "    \n",
    "    for i in range(1000):\n",
    "        subsample = df.sample(n=500, replace=True, random_state=state).reset_index(drop= True)\n",
    "        selected, profit = revenue(subsample,200)\n",
    "        values.append(profit)\n",
    "    \n",
    "    values = pd.Series(values)\n",
    "\n",
    "    return values"
   ]
  },
  {
   "cell_type": "code",
   "execution_count": 46,
   "id": "713753b7",
   "metadata": {},
   "outputs": [],
   "source": [
    "values1 = bootstrap(tar_and_pred1)"
   ]
  },
  {
   "cell_type": "code",
   "execution_count": 47,
   "id": "1ec3dcc9",
   "metadata": {},
   "outputs": [],
   "source": [
    "values2 = bootstrap(tar_and_pred2)"
   ]
  },
  {
   "cell_type": "code",
   "execution_count": 48,
   "id": "eac1327a",
   "metadata": {},
   "outputs": [],
   "source": [
    "values3 = bootstrap(tar_and_pred3)"
   ]
  },
  {
   "cell_type": "markdown",
   "id": "ae1cf60e",
   "metadata": {},
   "source": [
    "## Find average profit, 95% confidence interval and risk of losses. Loss is negative profit, calculate it as a probability and then express as a percentage."
   ]
  },
  {
   "cell_type": "markdown",
   "id": "03134c23",
   "metadata": {},
   "source": [
    "### First region"
   ]
  },
  {
   "cell_type": "code",
   "execution_count": 49,
   "id": "a6992a95",
   "metadata": {},
   "outputs": [
    {
     "name": "stdout",
     "output_type": "stream",
     "text": [
      "Region 1 average profit is: 3961649.85 Dollars\n"
     ]
    }
   ],
   "source": [
    "print(f\"Region 1 average profit is: {values1.mean():.2f} Dollars\")"
   ]
  },
  {
   "cell_type": "code",
   "execution_count": 50,
   "id": "18ed73ce",
   "metadata": {},
   "outputs": [
    {
     "name": "stdout",
     "output_type": "stream",
     "text": [
      "First region's confidence_interval of 95%: -1112155.46 - 9097669.42\n",
      "\n",
      "Margin error of: +- 5104912.44\n"
     ]
    }
   ],
   "source": [
    "lower1 = values1.quantile(0.025)\n",
    "upper1 = values1.quantile(0.975)\n",
    "print(f\"First region's confidence_interval of 95%: {lower1:.2f} - {upper1:.2f}\\n\")\n",
    "print(f\"Margin error of: +- {(upper1 - lower1) /2:.2f}\")"
   ]
  },
  {
   "cell_type": "code",
   "execution_count": 51,
   "id": "b2f45c1a",
   "metadata": {
    "scrolled": true
   },
   "outputs": [
    {
     "name": "stdout",
     "output_type": "stream",
     "text": [
      "First region's risk of losses:  6.9%\n"
     ]
    }
   ],
   "source": [
    "losess1 = values1[values1<0]\n",
    "losess1\n",
    "print(f\"First region's risk of losses:  {len(losess1)/ len(values1):.1%}\")"
   ]
  },
  {
   "cell_type": "markdown",
   "id": "4d5298fd",
   "metadata": {},
   "source": [
    "### Second region"
   ]
  },
  {
   "cell_type": "code",
   "execution_count": 52,
   "id": "db152da1",
   "metadata": {
    "scrolled": true
   },
   "outputs": [
    {
     "name": "stdout",
     "output_type": "stream",
     "text": [
      "Region 2 average profit is: 4560451.06 Dollars\n"
     ]
    }
   ],
   "source": [
    "print(f\"Region 2 average profit is: {values2.mean():.2f} Dollars\")"
   ]
  },
  {
   "cell_type": "code",
   "execution_count": 53,
   "id": "6fbb64bb",
   "metadata": {},
   "outputs": [
    {
     "name": "stdout",
     "output_type": "stream",
     "text": [
      "First region's confidence_interval of 95%: 338205.09 - 8522894.54\n",
      "Margin error of: +- 4092344.72\n"
     ]
    }
   ],
   "source": [
    "lower2 = values2.quantile(0.025)\n",
    "upper2 = values2.quantile(0.975)\n",
    "print(f\"First region's confidence_interval of 95%: {lower2:.2f} - {upper2:.2f}\")\n",
    "print(f\"Margin error of: +- {(upper2 - lower2) /2:.2f}\")"
   ]
  },
  {
   "cell_type": "code",
   "execution_count": 54,
   "id": "d9f2cfb6",
   "metadata": {
    "scrolled": false
   },
   "outputs": [
    {
     "name": "stdout",
     "output_type": "stream",
     "text": [
      "Second region's risk of losses:  1.5%\n"
     ]
    }
   ],
   "source": [
    "losess2 = values2[values2<0]\n",
    "losess2\n",
    "print(f\"Second region's risk of losses:  {len(losess2)/ len(values2):.1%}\")"
   ]
  },
  {
   "cell_type": "markdown",
   "id": "571b3fa5",
   "metadata": {},
   "source": [
    "### Third region"
   ]
  },
  {
   "cell_type": "code",
   "execution_count": 55,
   "id": "5289f110",
   "metadata": {
    "scrolled": true
   },
   "outputs": [
    {
     "name": "stdout",
     "output_type": "stream",
     "text": [
      "Region 3 average profit is: 4044038.67 Dollars\n"
     ]
    }
   ],
   "source": [
    "print(f\"Region 3 average profit is: {values3.mean():.2f} Dollars\")"
   ]
  },
  {
   "cell_type": "code",
   "execution_count": 56,
   "id": "6e468ab1",
   "metadata": {},
   "outputs": [
    {
     "name": "stdout",
     "output_type": "stream",
     "text": [
      "First region's confidence_interval of 95%: -1633504.13 - 9503595.75\n",
      "Margin error of: +- 5568549.94\n"
     ]
    }
   ],
   "source": [
    "lower3 = values3.quantile(0.025)\n",
    "upper3 = values3.quantile(0.975)\n",
    "print(f\"First region's confidence_interval of 95%: {lower3:.2f} - {upper3:.2f}\")\n",
    "print(f\"Margin error of: +- {(upper3 - lower3) /2:.2f}\")"
   ]
  },
  {
   "cell_type": "code",
   "execution_count": 57,
   "id": "6aab664c",
   "metadata": {
    "scrolled": true
   },
   "outputs": [
    {
     "name": "stdout",
     "output_type": "stream",
     "text": [
      "Second region's risk of losses:  7.6%\n"
     ]
    }
   ],
   "source": [
    "losess3 = values3[values3<0]\n",
    "losess3\n",
    "print(f\"Second region's risk of losses:  {len(losess3)/ len(values3):.1%}\")"
   ]
  },
  {
   "cell_type": "markdown",
   "id": "1110f3b9",
   "metadata": {},
   "source": [
    "# Overall conclusion:\n",
    "\n",
    "After training a linear regression model to predict oil volume in oil wells,\n",
    "I calculated the predicted the possible profit in every region by taking 1000 samples(n=500) of the data and calculate the average profit of the samples for each region.\n",
    "\n",
    "\n",
    "* The the best region is the `Second region`, it has the highest average profit, the lowest risk of losses and the most accurate predictions. I suggest that region for oil wells development!\n",
    "\n",
    "\n"
   ]
  }
 ],
 "metadata": {
  "ExecuteTimeLog": [
   {
    "duration": 8,
    "start_time": "2022-06-22T13:26:43.955Z"
   }
  ],
  "kernelspec": {
   "display_name": "Python 3 (ipykernel)",
   "language": "python",
   "name": "python3"
  },
  "language_info": {
   "codemirror_mode": {
    "name": "ipython",
    "version": 3
   },
   "file_extension": ".py",
   "mimetype": "text/x-python",
   "name": "python",
   "nbconvert_exporter": "python",
   "pygments_lexer": "ipython3",
   "version": "3.9.7"
  },
  "toc": {
   "base_numbering": 1,
   "nav_menu": {},
   "number_sections": true,
   "sideBar": true,
   "skip_h1_title": false,
   "title_cell": "Table of Contents",
   "title_sidebar": "Contents",
   "toc_cell": false,
   "toc_position": {
    "height": "calc(100% - 180px)",
    "left": "10px",
    "top": "150px",
    "width": "307.2px"
   },
   "toc_section_display": true,
   "toc_window_display": true
  }
 },
 "nbformat": 4,
 "nbformat_minor": 5
}
